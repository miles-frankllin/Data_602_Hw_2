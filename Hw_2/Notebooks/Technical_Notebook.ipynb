{
 "cells": [
  {
   "cell_type": "markdown",
   "metadata": {},
   "source": [
    "# Abstract\n",
    "Natural Language Processing (NLP) is, in itself, a massive subset of computer science. I used this project as a opportunity to begin to explore that field, while demonstrating how machine learning models play role. The data used in this study was collection of tweets from 16 verified health-focused accounts (BBC Health, CBC Health, etc.). I found this data searching through the [UCI Machine Learning Repository](https://archive.ics.uci.edu/ml/datasets.php), although the original credit belongs to Amir Karami, from the University of South Carolina. \n",
    "\n",
    "Hence, the goal of this project is to detect trends in twitter accounts who's target audience is accounts interested general health."
   ]
  },
  {
   "cell_type": "markdown",
   "metadata": {},
   "source": [
    "# Motivation\n",
    "Initially, the goal of this project was to perform a very similar analysis on Donald Trump's rally speeches leading up to the 2020 presidential election. The hope was that I would be able to group words together in a meaningful way, such that I would be able to extract topics from his speeches. While I am still working to finalize that project, this accomplishes a similar task, and has better prepared me to revisit that goal."
   ]
  },
  {
   "cell_type": "markdown",
   "metadata": {},
   "source": [
    "# Representing Words Numerically\n",
    "Before performing any analysis we have to first clean, and convert our data frame from a list of tweets into a numerical format. Below is a handful of tweets from our data frame with some of the other unused columns removed from view. This data frame will serve as our corpus, where each tweet is treated as its own individual document."
   ]
  },
  {
   "cell_type": "code",
   "execution_count": 1,
   "metadata": {},
   "outputs": [
    {
     "data": {
      "text/html": [
       "<div>\n",
       "<style scoped>\n",
       "    .dataframe tbody tr th:only-of-type {\n",
       "        vertical-align: middle;\n",
       "    }\n",
       "\n",
       "    .dataframe tbody tr th {\n",
       "        vertical-align: top;\n",
       "    }\n",
       "\n",
       "    .dataframe thead th {\n",
       "        text-align: right;\n",
       "    }\n",
       "</style>\n",
       "<table border=\"1\" class=\"dataframe\">\n",
       "  <thead>\n",
       "    <tr style=\"text-align: right;\">\n",
       "      <th></th>\n",
       "      <th>tweet</th>\n",
       "    </tr>\n",
       "  </thead>\n",
       "  <tbody>\n",
       "    <tr>\n",
       "      <th>0</th>\n",
       "      <td>Breast cancer risk test devised http://bbc.in/...</td>\n",
       "    </tr>\n",
       "    <tr>\n",
       "      <th>1</th>\n",
       "      <td>GP workload harming care - BMA poll http://bbc...</td>\n",
       "    </tr>\n",
       "    <tr>\n",
       "      <th>2</th>\n",
       "      <td>Short people's 'heart risk greater' http://bbc...</td>\n",
       "    </tr>\n",
       "  </tbody>\n",
       "</table>\n",
       "</div>"
      ],
      "text/plain": [
       "                                               tweet\n",
       "0  Breast cancer risk test devised http://bbc.in/...\n",
       "1  GP workload harming care - BMA poll http://bbc...\n",
       "2  Short people's 'heart risk greater' http://bbc..."
      ]
     },
     "metadata": {},
     "output_type": "display_data"
    }
   ],
   "source": [
    "import pandas as pd\n",
    "\n",
    "df = pd.read_csv(\"../Datasets/all_tweets.csv\")\n",
    "display(df.head(3))"
   ]
  },
  {
   "cell_type": "markdown",
   "metadata": {},
   "source": [
    "# Data Cleaning\n",
    "To clean this data, I removed hyper-links, re-tweet symbols (RT), and mention symbols (@) from each document."
   ]
  },
  {
   "cell_type": "code",
   "execution_count": 2,
   "metadata": {},
   "outputs": [
    {
     "data": {
      "text/html": [
       "<div>\n",
       "<style scoped>\n",
       "    .dataframe tbody tr th:only-of-type {\n",
       "        vertical-align: middle;\n",
       "    }\n",
       "\n",
       "    .dataframe tbody tr th {\n",
       "        vertical-align: top;\n",
       "    }\n",
       "\n",
       "    .dataframe thead th {\n",
       "        text-align: right;\n",
       "    }\n",
       "</style>\n",
       "<table border=\"1\" class=\"dataframe\">\n",
       "  <thead>\n",
       "    <tr style=\"text-align: right;\">\n",
       "      <th></th>\n",
       "      <th>tweet</th>\n",
       "    </tr>\n",
       "  </thead>\n",
       "  <tbody>\n",
       "    <tr>\n",
       "      <th>0</th>\n",
       "      <td>breast cancer risk test devised</td>\n",
       "    </tr>\n",
       "    <tr>\n",
       "      <th>1</th>\n",
       "      <td>gp workload harming care - bma poll</td>\n",
       "    </tr>\n",
       "    <tr>\n",
       "      <th>2</th>\n",
       "      <td>short people's 'heart risk greater'</td>\n",
       "    </tr>\n",
       "  </tbody>\n",
       "</table>\n",
       "</div>"
      ],
      "text/plain": [
       "                                 tweet\n",
       "0      breast cancer risk test devised\n",
       "1  gp workload harming care - bma poll\n",
       "2  short people's 'heart risk greater'"
      ]
     },
     "metadata": {},
     "output_type": "display_data"
    }
   ],
   "source": [
    "df = pd.read_csv(\"../Datasets/all_tweets_cleaned.csv\")\n",
    "display(df.head(3))"
   ]
  },
  {
   "cell_type": "markdown",
   "metadata": {},
   "source": [
    "# Term Frequency Inverse Document Frequency (TF-IDF)\n",
    "Before explaining the cell of code below, it is important to have some background knowledge about what TF-IDF represents. TF-IDF is a matrix representation of how words appear in each document. Here, the rows represent each document, or tweet in this case, and the columns represent the unique vocabulary built from the tweets provided. Within this matrix, each cell represents the term frequency within a row multiplied by inverse document frequency, as a way of showing how important a word is to a tweets meaning, as it relates to the overall collection of tweets.\n",
    "\n",
    "In the cell below, we create this matrix using the [TfidfVectorizer](https://scikit-learn.org/stable/modules/generated/sklearn.feature_extraction.text.TfidfVectorizer.html#sklearn.feature_extraction.text.TfidfVectorizer.fit_transform) function from sklearn. This function provides a lot of versatility, and allows us to specify how we want to define our vocabulary. The parameters we used for this transformation were:\n",
    "> Only including words that have a document frequency greater than or equal to 10%.<br>\n",
    "> Removing stop words as defined by the NLTK library.<br>\n",
    "> Looking at words individually, as well as groups of two and three.  "
   ]
  },
  {
   "cell_type": "code",
   "execution_count": 3,
   "metadata": {},
   "outputs": [
    {
     "data": {
      "text/html": [
       "<div>\n",
       "<style scoped>\n",
       "    .dataframe tbody tr th:only-of-type {\n",
       "        vertical-align: middle;\n",
       "    }\n",
       "\n",
       "    .dataframe tbody tr th {\n",
       "        vertical-align: top;\n",
       "    }\n",
       "\n",
       "    .dataframe thead th {\n",
       "        text-align: right;\n",
       "    }\n",
       "</style>\n",
       "<table border=\"1\" class=\"dataframe\">\n",
       "  <thead>\n",
       "    <tr style=\"text-align: right;\">\n",
       "      <th></th>\n",
       "      <th>cancer</th>\n",
       "      <th>risk</th>\n",
       "      <th>care</th>\n",
       "      <th>people</th>\n",
       "      <th>heart</th>\n",
       "      <th>new</th>\n",
       "      <th>nhs</th>\n",
       "      <th>doctors</th>\n",
       "      <th>video</th>\n",
       "      <th>day</th>\n",
       "      <th>...</th>\n",
       "      <th>want</th>\n",
       "      <th>10</th>\n",
       "      <th>know</th>\n",
       "      <th>well</th>\n",
       "      <th>foods</th>\n",
       "      <th>reports</th>\n",
       "      <th>obamacare</th>\n",
       "      <th>fda</th>\n",
       "      <th>ways</th>\n",
       "      <th>healthtalk</th>\n",
       "    </tr>\n",
       "  </thead>\n",
       "  <tbody>\n",
       "    <tr>\n",
       "      <th>0</th>\n",
       "      <td>0.0</td>\n",
       "      <td>0.0</td>\n",
       "      <td>0.0</td>\n",
       "      <td>0.0</td>\n",
       "      <td>0.0</td>\n",
       "      <td>0.678162</td>\n",
       "      <td>0.0</td>\n",
       "      <td>0.0</td>\n",
       "      <td>0.0</td>\n",
       "      <td>0.0</td>\n",
       "      <td>...</td>\n",
       "      <td>0.0</td>\n",
       "      <td>0.0</td>\n",
       "      <td>0.0</td>\n",
       "      <td>0.0</td>\n",
       "      <td>0.0</td>\n",
       "      <td>0.0</td>\n",
       "      <td>0.0</td>\n",
       "      <td>0.0</td>\n",
       "      <td>0.0</td>\n",
       "      <td>0.0</td>\n",
       "    </tr>\n",
       "    <tr>\n",
       "      <th>1</th>\n",
       "      <td>0.0</td>\n",
       "      <td>0.0</td>\n",
       "      <td>0.0</td>\n",
       "      <td>0.0</td>\n",
       "      <td>0.0</td>\n",
       "      <td>0.000000</td>\n",
       "      <td>1.0</td>\n",
       "      <td>0.0</td>\n",
       "      <td>0.0</td>\n",
       "      <td>0.0</td>\n",
       "      <td>...</td>\n",
       "      <td>0.0</td>\n",
       "      <td>0.0</td>\n",
       "      <td>0.0</td>\n",
       "      <td>0.0</td>\n",
       "      <td>0.0</td>\n",
       "      <td>0.0</td>\n",
       "      <td>0.0</td>\n",
       "      <td>0.0</td>\n",
       "      <td>0.0</td>\n",
       "      <td>0.0</td>\n",
       "    </tr>\n",
       "    <tr>\n",
       "      <th>2</th>\n",
       "      <td>0.0</td>\n",
       "      <td>0.0</td>\n",
       "      <td>0.0</td>\n",
       "      <td>0.0</td>\n",
       "      <td>0.0</td>\n",
       "      <td>0.000000</td>\n",
       "      <td>0.0</td>\n",
       "      <td>0.0</td>\n",
       "      <td>0.0</td>\n",
       "      <td>0.0</td>\n",
       "      <td>...</td>\n",
       "      <td>0.0</td>\n",
       "      <td>0.0</td>\n",
       "      <td>0.0</td>\n",
       "      <td>0.0</td>\n",
       "      <td>0.0</td>\n",
       "      <td>0.0</td>\n",
       "      <td>0.0</td>\n",
       "      <td>0.0</td>\n",
       "      <td>0.0</td>\n",
       "      <td>0.0</td>\n",
       "    </tr>\n",
       "  </tbody>\n",
       "</table>\n",
       "<p>3 rows × 75 columns</p>\n",
       "</div>"
      ],
      "text/plain": [
       "   cancer  risk  care  people  heart       new  nhs  doctors  video  day  ...  \\\n",
       "0     0.0   0.0   0.0     0.0    0.0  0.678162  0.0      0.0    0.0  0.0  ...   \n",
       "1     0.0   0.0   0.0     0.0    0.0  0.000000  1.0      0.0    0.0  0.0  ...   \n",
       "2     0.0   0.0   0.0     0.0    0.0  0.000000  0.0      0.0    0.0  0.0  ...   \n",
       "\n",
       "   want   10  know  well  foods  reports  obamacare  fda  ways  healthtalk  \n",
       "0   0.0  0.0   0.0   0.0    0.0      0.0        0.0  0.0   0.0         0.0  \n",
       "1   0.0  0.0   0.0   0.0    0.0      0.0        0.0  0.0   0.0         0.0  \n",
       "2   0.0  0.0   0.0   0.0    0.0      0.0        0.0  0.0   0.0         0.0  \n",
       "\n",
       "[3 rows x 75 columns]"
      ]
     },
     "metadata": {},
     "output_type": "display_data"
    }
   ],
   "source": [
    "df = pd.read_csv(\"../Datasets/df_tfidf.csv\")\n",
    "display(df.head(3))"
   ]
  },
  {
   "cell_type": "markdown",
   "metadata": {},
   "source": [
    "# Elbow analysis\n",
    "Elbow analysis is a technique for helping determine the number of clusters for a model. Since K-Means require this as an initial parameter, elbow analysis runs a model for each desired number of clusters, and compares the values on a line chart. The algorithms used to score the different model are:\n",
    "\n",
    "> Distortion: The sum of the squared distances from each point to its corresponding cluster center. <br>\n",
    "> Silhouette: A measure of how well-defined clusters are from one another.<br>\n",
    "> Calinski Harabasz : \"The ratio of dispersion between and within clusters.\" ([YellowBrick Documentaion](https://www.scikit-yb.org/en/latest/api/cluster/elbow.html))\n",
    "\n",
    "In the first two tables there isn't a clear \"elbow\" in the graph to indicate an obvious choice of clusters. For the distortion graph, this \"elbow\" would be a sharp decline in the graph, indicating a substantial improvement from the newly added cluster, and for the silhouette score, this would be an upward spike towards a score of one from the addition of a new cluster. Unfortunately, neither of these indicators were visibly present, so despite the algorithms best guess at the dotted lines, we continued to search. In the Calinski Harabasz test in graph three, there was a much more convincing \"elbow\" to choose from. While the algorithm suggested 7 clusters, indicated by the dotted black line, I chose to implement my model with four clusters, the solid black line, because it was the significant improvement I was looking for in the graph. \n",
    "<table>\n",
    "    <tr>\n",
    "        <td><img src=\"../Images/Elbow_Distortion_k_in_2-12.png\"></td>\n",
    "        <td><img src=\"../Images/Elbow_Silhouette_k_in_2-12.png\"></td>\n",
    "        <td colspan=\"1\"><img src=\"../Images/Elbow_Harabasz_k_in_2-12_Labeled.png\"></td>\n",
    "    </tr>\n",
    "</table>"
   ]
  },
  {
   "cell_type": "markdown",
   "metadata": {},
   "source": [
    "# Clusters Found\n",
    "To find what cluster each tweets belongs too, I ran a K-Means Clustering Model with 4 clusters, as determined above. Now, the final task is too see what words define each cluster, and what information can be extracted from this model. It it helpful to note that the term frequencies were determined by summing up the columns from the TF-IDF matrix above. Feel free to interact with the cell blocks below each cluster to see what kind of tweets you can find."
   ]
  },
  {
   "cell_type": "code",
   "execution_count": 4,
   "metadata": {},
   "outputs": [],
   "source": [
    "df = pd.read_csv(\"../Datasets/df_cleaned_clusters.csv\")"
   ]
  },
  {
   "cell_type": "markdown",
   "metadata": {},
   "source": [
    "<table>\n",
    "    <tr>\n",
    "        <th style=\"width:5%; text-align:center\">Cluster</th>\n",
    "        <th style=\"width:25%; text-align:center\">Word Cloud</th>\n",
    "        <th style=\"width:75%; text-align:center\">Description</th>\n",
    "    </tr>\n",
    "    <tr>\n",
    "        <td><h1>0</h1></td>\n",
    "        <td><img src=\"../Images/C_0.png\"></td>\n",
    "        <td>\n",
    "            <p>Of the words that made this cluster, the most defining words were healthcare, make, medical, nhs, brain, and study. This grouping of words was largely dominated by healthcare, the following words suggest that this cluster describes tweets that talk about studies in the field. </p>\n",
    "        </td>\n",
    "    </tr>\n",
    "</table>"
   ]
  },
  {
   "cell_type": "code",
   "execution_count": 5,
   "metadata": {},
   "outputs": [
    {
     "data": {
      "text/html": [
       "<div>\n",
       "<style scoped>\n",
       "    .dataframe tbody tr th:only-of-type {\n",
       "        vertical-align: middle;\n",
       "    }\n",
       "\n",
       "    .dataframe tbody tr th {\n",
       "        vertical-align: top;\n",
       "    }\n",
       "\n",
       "    .dataframe thead th {\n",
       "        text-align: right;\n",
       "    }\n",
       "</style>\n",
       "<table border=\"1\" class=\"dataframe\">\n",
       "  <thead>\n",
       "    <tr style=\"text-align: right;\">\n",
       "      <th></th>\n",
       "      <th>tweet</th>\n",
       "      <th>source</th>\n",
       "      <th>cluster</th>\n",
       "    </tr>\n",
       "  </thead>\n",
       "  <tbody>\n",
       "    <tr>\n",
       "      <th>1528</th>\n",
       "      <td>video: 'make mental health bigger priority'</td>\n",
       "      <td>bbchealth</td>\n",
       "      <td>0</td>\n",
       "    </tr>\n",
       "    <tr>\n",
       "      <th>1530</th>\n",
       "      <td>make mental health 'bigger priority'</td>\n",
       "      <td>bbchealth</td>\n",
       "      <td>0</td>\n",
       "    </tr>\n",
       "    <tr>\n",
       "      <th>4281</th>\n",
       "      <td>racism against aboriginal people in health-car...</td>\n",
       "      <td>cbchealth</td>\n",
       "      <td>0</td>\n",
       "    </tr>\n",
       "    <tr>\n",
       "      <th>4297</th>\n",
       "      <td>canadian seniors satisfied with health-care qu...</td>\n",
       "      <td>cbchealth</td>\n",
       "      <td>0</td>\n",
       "    </tr>\n",
       "    <tr>\n",
       "      <th>4726</th>\n",
       "      <td>shorter overseas troop deployments tied to bet...</td>\n",
       "      <td>cbchealth</td>\n",
       "      <td>0</td>\n",
       "    </tr>\n",
       "  </tbody>\n",
       "</table>\n",
       "</div>"
      ],
      "text/plain": [
       "                                                  tweet     source  cluster\n",
       "1528        video: 'make mental health bigger priority'  bbchealth        0\n",
       "1530               make mental health 'bigger priority'  bbchealth        0\n",
       "4281  racism against aboriginal people in health-car...  cbchealth        0\n",
       "4297  canadian seniors satisfied with health-care qu...  cbchealth        0\n",
       "4726  shorter overseas troop deployments tied to bet...  cbchealth        0"
      ]
     },
     "metadata": {},
     "output_type": "display_data"
    }
   ],
   "source": [
    "temp = df[df[\"cluster\"]==0]\n",
    "temp  = pd.DataFrame(temp[[('healthcare' in t) or \n",
    "                           ('make' in t) or \n",
    "                           ('study' in t) for t in temp[\"tweet\"]]])\n",
    "display(temp.head(5)[[\"tweet\", \"source\", \"cluster\"]])"
   ]
  },
  {
   "cell_type": "markdown",
   "metadata": {},
   "source": [
    "<table>\n",
    "    <tr>\n",
    "        <th style=\"width:5%; text-align:center\">Cluster</th>\n",
    "        <th style=\"width:25%; text-align:center\">Word Cloud</th>\n",
    "        <th style=\"width:75%; text-align:center\">Description</th>\n",
    "    </tr>\n",
    "    <tr>\n",
    "        <td><h1>1</h1></td>\n",
    "        <td><img src=\"../Images/C_1.png\"></td>\n",
    "        <td>\n",
    "            <p>Of the words that made this cluster, the most defining words were healthcare, make, medical, nhs, brain, and study. This grouping of words was largely dominated by healthcare, the following words suggest that this cluster describes tweets that talk about studies in the field. </p>\n",
    "        </td>\n",
    "    </tr>\n",
    "</table>"
   ]
  },
  {
   "cell_type": "code",
   "execution_count": 6,
   "metadata": {},
   "outputs": [
    {
     "data": {
      "text/html": [
       "<div>\n",
       "<style scoped>\n",
       "    .dataframe tbody tr th:only-of-type {\n",
       "        vertical-align: middle;\n",
       "    }\n",
       "\n",
       "    .dataframe tbody tr th {\n",
       "        vertical-align: top;\n",
       "    }\n",
       "\n",
       "    .dataframe thead th {\n",
       "        text-align: right;\n",
       "    }\n",
       "</style>\n",
       "<table border=\"1\" class=\"dataframe\">\n",
       "  <thead>\n",
       "    <tr style=\"text-align: right;\">\n",
       "      <th></th>\n",
       "      <th>tweet</th>\n",
       "      <th>source</th>\n",
       "      <th>cluster</th>\n",
       "    </tr>\n",
       "  </thead>\n",
       "  <tbody>\n",
       "    <tr>\n",
       "      <th>25</th>\n",
       "      <td>unsafe food 'growing global threat'</td>\n",
       "      <td>bbchealth</td>\n",
       "      <td>1</td>\n",
       "    </tr>\n",
       "    <tr>\n",
       "      <th>301</th>\n",
       "      <td>cigarette packet law 'would save lives'</td>\n",
       "      <td>bbchealth</td>\n",
       "      <td>1</td>\n",
       "    </tr>\n",
       "    <tr>\n",
       "      <th>312</th>\n",
       "      <td>unlabelled nuts in food prompts probe</td>\n",
       "      <td>bbchealth</td>\n",
       "      <td>1</td>\n",
       "    </tr>\n",
       "  </tbody>\n",
       "</table>\n",
       "</div>"
      ],
      "text/plain": [
       "                                       tweet     source  cluster\n",
       "25       unsafe food 'growing global threat'  bbchealth        1\n",
       "301  cigarette packet law 'would save lives'  bbchealth        1\n",
       "312    unlabelled nuts in food prompts probe  bbchealth        1"
      ]
     },
     "metadata": {},
     "output_type": "display_data"
    }
   ],
   "source": [
    "temp = df[df[\"cluster\"]==1]\n",
    "temp  = pd.DataFrame(temp[[('food' in t) or \n",
    "                           ('law' in t) or \n",
    "                           ('better' in t) for t in temp[\"tweet\"]]])\n",
    "display(temp.head(3)[[\"tweet\", \"source\", \"cluster\"]])"
   ]
  },
  {
   "cell_type": "markdown",
   "metadata": {},
   "source": [
    "<table>\n",
    "    <tr>\n",
    "        <th style=\"width:5%; text-align:center\">Cluster</th>\n",
    "        <th style=\"width:25%; text-align:center\">Word Cloud</th>\n",
    "        <th style=\"width:75%; text-align:center\">Description</th>\n",
    "    </tr>\n",
    "    <tr>\n",
    "        <td><h1>2</h1></td>\n",
    "        <td><img src=\"../Images/C_2.png\"></td>\n",
    "        <td>\n",
    "            <p>Similarly, this cluster seems to be describing tweets that is centered around daily updates, and advertising healthy behaviors. Some of the tweets observed in this cluster took the form of \"You could start this today\", and, more notably, \"New today: ...\" </p>\n",
    "        </td>\n",
    "    </tr>\n",
    "</table>"
   ]
  },
  {
   "cell_type": "code",
   "execution_count": 7,
   "metadata": {},
   "outputs": [
    {
     "data": {
      "text/html": [
       "<div>\n",
       "<style scoped>\n",
       "    .dataframe tbody tr th:only-of-type {\n",
       "        vertical-align: middle;\n",
       "    }\n",
       "\n",
       "    .dataframe tbody tr th {\n",
       "        vertical-align: top;\n",
       "    }\n",
       "\n",
       "    .dataframe thead th {\n",
       "        text-align: right;\n",
       "    }\n",
       "</style>\n",
       "<table border=\"1\" class=\"dataframe\">\n",
       "  <thead>\n",
       "    <tr style=\"text-align: right;\">\n",
       "      <th></th>\n",
       "      <th>tweet</th>\n",
       "      <th>source</th>\n",
       "      <th>cluster</th>\n",
       "    </tr>\n",
       "  </thead>\n",
       "  <tbody>\n",
       "    <tr>\n",
       "      <th>1596</th>\n",
       "      <td>new hospital food rules introduced</td>\n",
       "      <td>bbchealth</td>\n",
       "      <td>2</td>\n",
       "    </tr>\n",
       "    <tr>\n",
       "      <th>4407</th>\n",
       "      <td>how to resist holiday junk food habits into th...</td>\n",
       "      <td>cbchealth</td>\n",
       "      <td>2</td>\n",
       "    </tr>\n",
       "    <tr>\n",
       "      <th>4806</th>\n",
       "      <td>double-gloving, better face protection added i...</td>\n",
       "      <td>cbchealth</td>\n",
       "      <td>2</td>\n",
       "    </tr>\n",
       "    <tr>\n",
       "      <th>5963</th>\n",
       "      <td>new documentary says added sugar in food cause...</td>\n",
       "      <td>cbchealth</td>\n",
       "      <td>2</td>\n",
       "    </tr>\n",
       "    <tr>\n",
       "      <th>7469</th>\n",
       "      <td>lionel shriver probes obsession with food in n...</td>\n",
       "      <td>cbchealth</td>\n",
       "      <td>2</td>\n",
       "    </tr>\n",
       "  </tbody>\n",
       "</table>\n",
       "</div>"
      ],
      "text/plain": [
       "                                                  tweet     source  cluster\n",
       "1596                 new hospital food rules introduced  bbchealth        2\n",
       "4407  how to resist holiday junk food habits into th...  cbchealth        2\n",
       "4806  double-gloving, better face protection added i...  cbchealth        2\n",
       "5963  new documentary says added sugar in food cause...  cbchealth        2\n",
       "7469  lionel shriver probes obsession with food in n...  cbchealth        2"
      ]
     },
     "metadata": {},
     "output_type": "display_data"
    }
   ],
   "source": [
    "temp = df[df[\"cluster\"]==2]\n",
    "temp  = pd.DataFrame(temp[[('today' in t) or \n",
    "                           ('better' in t) or \n",
    "                           ('food' in t) for t in temp[\"tweet\"]]])\n",
    "display(temp.head(5)[[\"tweet\", \"source\", \"cluster\"]])"
   ]
  },
  {
   "cell_type": "markdown",
   "metadata": {},
   "source": [
    "<table>\n",
    "    <tr>\n",
    "        <th style=\"width:5%; text-align:center\">Cluster</th>\n",
    "        <th style=\"width:25%; text-align:center\">Word Cloud</th>\n",
    "        <th style=\"width:75%; text-align:center\">Description</th>\n",
    "    </tr>\n",
    "    <tr>\n",
    "        <td><h1>3</h1></td>\n",
    "        <td><img src=\"../Images/C_3.png\"></td>\n",
    "        <td>\n",
    "            <p>With the leading terms, patients and drugs, I feel this cluster is capturing tweets about new drugs on the market and the target audience they could be for. For example:</p>\n",
    "            <p style=\"text-indent: 50px\">\"Drug hope for leukaemia patients http://bbc.in/1dg81pI\"\tfrom BBC Health on line 3383</p>\n",
    "            <p style=\"text-indent: 50px\">\"Health Canada blocks dying patients from access to drug http://bit.ly/12eCbb0\" from CBC Health on line 7424</p>\n",
    "        </td>\n",
    "    </tr>\n",
    "</table>"
   ]
  },
  {
   "cell_type": "code",
   "execution_count": 8,
   "metadata": {},
   "outputs": [
    {
     "data": {
      "text/html": [
       "<div>\n",
       "<style scoped>\n",
       "    .dataframe tbody tr th:only-of-type {\n",
       "        vertical-align: middle;\n",
       "    }\n",
       "\n",
       "    .dataframe tbody tr th {\n",
       "        vertical-align: top;\n",
       "    }\n",
       "\n",
       "    .dataframe thead th {\n",
       "        text-align: right;\n",
       "    }\n",
       "</style>\n",
       "<table border=\"1\" class=\"dataframe\">\n",
       "  <thead>\n",
       "    <tr style=\"text-align: right;\">\n",
       "      <th></th>\n",
       "      <th>tweet</th>\n",
       "      <th>source</th>\n",
       "      <th>cluster</th>\n",
       "    </tr>\n",
       "  </thead>\n",
       "  <tbody>\n",
       "    <tr>\n",
       "      <th>29</th>\n",
       "      <td>drug giant 'blocks' eye treatment</td>\n",
       "      <td>bbchealth</td>\n",
       "      <td>3</td>\n",
       "    </tr>\n",
       "    <tr>\n",
       "      <th>35</th>\n",
       "      <td>ms drug 'may already be out there'</td>\n",
       "      <td>bbchealth</td>\n",
       "      <td>3</td>\n",
       "    </tr>\n",
       "    <tr>\n",
       "      <th>189</th>\n",
       "      <td>clegg in drug law election pledge</td>\n",
       "      <td>bbchealth</td>\n",
       "      <td>3</td>\n",
       "    </tr>\n",
       "    <tr>\n",
       "      <th>198</th>\n",
       "      <td>cancer drug patient's england move</td>\n",
       "      <td>bbchealth</td>\n",
       "      <td>3</td>\n",
       "    </tr>\n",
       "    <tr>\n",
       "      <th>206</th>\n",
       "      <td>drug drivers targeted by new rules</td>\n",
       "      <td>bbchealth</td>\n",
       "      <td>3</td>\n",
       "    </tr>\n",
       "  </tbody>\n",
       "</table>\n",
       "</div>"
      ],
      "text/plain": [
       "                                  tweet     source  cluster\n",
       "29    drug giant 'blocks' eye treatment  bbchealth        3\n",
       "35   ms drug 'may already be out there'  bbchealth        3\n",
       "189   clegg in drug law election pledge  bbchealth        3\n",
       "198  cancer drug patient's england move  bbchealth        3\n",
       "206  drug drivers targeted by new rules  bbchealth        3"
      ]
     },
     "metadata": {},
     "output_type": "display_data"
    }
   ],
   "source": [
    "temp = df[df[\"cluster\"]==3]\n",
    "temp  = pd.DataFrame(temp[[('patients' in t) or \n",
    "                           ('drug' in t) or \n",
    "                           ('new' in t) for t in temp[\"tweet\"]]])\n",
    "display(temp.head(5)[[\"tweet\", \"source\", \"cluster\"]])"
   ]
  },
  {
   "cell_type": "markdown",
   "metadata": {},
   "source": [
    "# Conclusion\n",
    "K-Means clustering is a powerful tool, and an excellent introduction into the field of unsupervised learning. Paired with a handful of Natural Language Processing libraries, I was able to successfully extract value out of more than 60,000 tweets, and group them in a meaningful way. While there value of the collection of tweets analyzed may be variable from reader to reader, it should be universally understood that the techniques presented are well worth studying, and applying to future data."
   ]
  }
 ],
 "metadata": {
  "kernelspec": {
   "display_name": "Python 3",
   "language": "python",
   "name": "python3"
  },
  "language_info": {
   "codemirror_mode": {
    "name": "ipython",
    "version": 3
   },
   "file_extension": ".py",
   "mimetype": "text/x-python",
   "name": "python",
   "nbconvert_exporter": "python",
   "pygments_lexer": "ipython3",
   "version": "3.8.2"
  }
 },
 "nbformat": 4,
 "nbformat_minor": 4
}
